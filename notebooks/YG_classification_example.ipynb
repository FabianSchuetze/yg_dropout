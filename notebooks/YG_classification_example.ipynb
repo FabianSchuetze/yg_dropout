{
 "cells": [
  {
   "cell_type": "code",
   "execution_count": 17,
   "metadata": {},
   "outputs": [
    {
     "name": "stdout",
     "output_type": "stream",
     "text": [
      "Populating the interactive namespace from numpy and matplotlib\n"
     ]
    },
    {
     "name": "stderr",
     "output_type": "stream",
     "text": [
      "/home/mith/env/lib/python3.6/site-packages/IPython/core/magics/pylab.py:160: UserWarning: pylab import has clobbered these variables: ['random']\n",
      "`%matplotlib` prevents importing * from pylab and numpy\n",
      "  \"\\n`%matplotlib` prevents importing * from pylab and numpy\"\n"
     ]
    }
   ],
   "source": [
    "import random\n",
    "\n",
    "import numpy\n",
    "import matplotlib.pyplot as plt\n",
    "\n",
    "%pylab inline"
   ]
  },
  {
   "cell_type": "code",
   "execution_count": 2,
   "metadata": {},
   "outputs": [],
   "source": [
    "def gauss_noise(mu, sigma):\n",
    "    \"\"\"Return a random sample from Gaussian distribution.\"\"\"\n",
    "    return numpy.random.normal(loc=mu, scale=sigma)"
   ]
  },
  {
   "cell_type": "markdown",
   "metadata": {},
   "source": [
    "# Prepare data\n",
    "\n",
    "Prepare some syntetic data, for example:\n",
    "\n",
    "$$\n",
    "y = 1 \\cdot [x > 1] = \\Theta (x - 1),\n",
    "$$\n",
    "where $\\Theta$ it is Heaviside step function. "
   ]
  },
  {
   "cell_type": "code",
   "execution_count": 3,
   "metadata": {},
   "outputs": [],
   "source": [
    "N = 1000\n",
    "\n",
    "input_x = sorted([2*random.random() for _ in range(N)])\n",
    "ideal_y = [1 if i > 1 else 0 for i in input_x]\n",
    "noisy_y = [1 if i + gauss_noise(0, 0.1) > 1 else 0 for i in input_x]"
   ]
  },
  {
   "cell_type": "code",
   "execution_count": 4,
   "metadata": {},
   "outputs": [
    {
     "data": {
      "image/png": "[encoded data removed]",
      "text/plain": [
       "<Figure size 432x288 with 1 Axes>"
      ]
     },
     "metadata": {},
     "output_type": "display_data"
    }
   ],
   "source": [
    "plt.plot(input_x, ideal_y, '--k')\n",
    "plt.plot(input_x, noisy_y, 'o', alpha=0.1)\n",
    "plt.show()"
   ]
  },
  {
   "cell_type": "code",
   "execution_count": 5,
   "metadata": {},
   "outputs": [],
   "source": [
    "training_x = numpy.array(input_x, dtype='float32').reshape((N, -1))\n",
    "training_y = numpy.array(noisy_y, dtype='float32').reshape((N, -1))"
   ]
  },
  {
   "cell_type": "markdown",
   "metadata": {},
   "source": [
    "# Neural Network with 2 layers"
   ]
  },
  {
   "cell_type": "code",
   "execution_count": 6,
   "metadata": {},
   "outputs": [
    {
     "name": "stderr",
     "output_type": "stream",
     "text": [
      "/home/mith/env/lib/python3.6/site-packages/h5py/__init__.py:36: FutureWarning: Conversion of the second argument of issubdtype from `float` to `np.floating` is deprecated. In future, it will be treated as `np.float64 == np.dtype(float).type`.\n",
      "  from ._conv import register_converters as _register_converters\n"
     ]
    }
   ],
   "source": [
    "import tensorflow as tf\n",
    "import numpy as np\n",
    "import itertools\n",
    "import sklearn.metrics as metrics\n",
    "\n",
    "\n",
    "tf.logging.set_verbosity(0)  # you can set to 1 or 2 in order to see the progress\n",
    "\n",
    "\n",
    "def net(x_dict):\n",
    "    \"\"\"Simple network\"\"\"\n",
    "    x = x_dict['x']\n",
    "    x = tf.layers.dense(x, 4, activation=tf.nn.elu)\n",
    "    x = tf.layers.dense(x, 4, activation=tf.nn.elu)\n",
    "    x = tf.nn.dropout(x, 0.85)\n",
    "    ops = tf.layers.dense(x, 1, activation=tf.sigmoid)\n",
    "\n",
    "    return ops\n",
    "\n",
    "\n",
    "def model_fn(features, labels, mode):\n",
    "    \"\"\"Model features.\"\"\"\n",
    "    out = net(features)\n",
    "    pred = out\n",
    "    \n",
    "    if mode == tf.estimator.ModeKeys.PREDICT:\n",
    "        tfe = tf.estimator.EstimatorSpec(\n",
    "            mode, predictions=pred, export_outputs={\n",
    "                1: tf.estimator.export.ClassificationOutput(scores=pred, classes=None)})\n",
    "        return tfe\n",
    "\n",
    "    labs = labels\n",
    "    loss_op = tf.losses.sigmoid_cross_entropy(labs, out)\n",
    "    optimizer = tf.train.RMSPropOptimizer(0.001)\n",
    "    \n",
    "    train_op = optimizer.minimize(\n",
    "        loss_op, global_step=tf.train.get_global_step())\n",
    "\n",
    "    acc_op = tf.metrics.auc(labels=labs, predictions=pred)\n",
    "    estim_specs = tf.estimator.EstimatorSpec(\n",
    "        mode=mode,\n",
    "        predictions=pred,\n",
    "        loss=loss_op,\n",
    "        train_op=train_op,\n",
    "        eval_metric_ops={'accuracy': acc_op})\n",
    "\n",
    "    return estim_specs"
   ]
  },
  {
   "cell_type": "code",
   "execution_count": 7,
   "metadata": {},
   "outputs": [
    {
     "name": "stdout",
     "output_type": "stream",
     "text": [
      "WARNING:tensorflow:Using temporary folder as model directory: /tmp/tmpjz2nz889\n"
     ]
    },
    {
     "data": {
      "text/plain": [
       "<tensorflow.python.estimator.estimator.Estimator at 0x7f21039e6160>"
      ]
     },
     "execution_count": 7,
     "metadata": {},
     "output_type": "execute_result"
    }
   ],
   "source": [
    "model = tf.estimator.Estimator(model_fn)\n",
    "\n",
    "train_fn = tf.estimator.inputs.numpy_input_fn(\n",
    "    x={'x': training_x},\n",
    "    y=training_y,\n",
    "    batch_size=50, num_epochs=100, shuffle=True)\n",
    "\n",
    "model.train(train_fn)"
   ]
  },
  {
   "cell_type": "markdown",
   "metadata": {},
   "source": [
    "# Predict\n",
    "\n",
    "In order to test our predictions, let's prepare test imput both, within and outside the training region."
   ]
  },
  {
   "cell_type": "code",
   "execution_count": 8,
   "metadata": {},
   "outputs": [],
   "source": [
    "N = 1000\n",
    "\n",
    "test_input_x = sorted([4*random.random()-1 for _ in range(N)])\n",
    "test_ideal_y = [1 if i > 1 else 0 for i in input_x]\n",
    "test_noisy_y = [1 if i + gauss_noise(0, 0.1) > 1 else 0 for i in input_x]"
   ]
  },
  {
   "cell_type": "code",
   "execution_count": 9,
   "metadata": {},
   "outputs": [],
   "source": [
    "testing_x = numpy.array(test_input_x, dtype='float32').reshape((N, -1))\n",
    "testing_y = numpy.array(test_noisy_y, dtype='float32').reshape((N, -1))"
   ]
  },
  {
   "cell_type": "code",
   "execution_count": 10,
   "metadata": {},
   "outputs": [],
   "source": [
    "# we predict 100 times; each time we predict we use droput\n",
    "# (note, normally dropout is used only during training.\n",
    "#  however here, in order to obtain uncertanity, we use\n",
    "#  dropout during predictions as well)\n",
    "\n",
    "test_fn = tf.estimator.inputs.numpy_input_fn(\n",
    "    x={'x': testing_x},\n",
    "    y=testing_y, num_epochs=100, shuffle=False)\n",
    "\n",
    "preds = model.predict(test_fn)\n",
    "preds = numpy.array([i for i in preds]).reshape((100, -1))"
   ]
  },
  {
   "cell_type": "code",
   "execution_count": 11,
   "metadata": {},
   "outputs": [],
   "source": [
    "# calculate averate results and standard deviation\n",
    "average = [numpy.mean(i) for i in preds.T]\n",
    "deviation = [numpy.std(i) for i in preds.T]"
   ]
  },
  {
   "cell_type": "code",
   "execution_count": 12,
   "metadata": {},
   "outputs": [
    {
     "data": {
      "image/png": "[encoded data removed]",
      "text/plain": [
       "<Figure size 432x288 with 1 Axes>"
      ]
     },
     "metadata": {},
     "output_type": "display_data"
    }
   ],
   "source": [
    "# plot resuls\n",
    "\n",
    "plt.plot(test_input_x, test_ideal_y, '--k')\n",
    "plt.plot(test_input_x, test_noisy_y, 'o', alpha=0.1)\n",
    "\n",
    "for i in range(100):\n",
    "    plt.plot(test_input_x, preds[i], '.', alpha=0.05)\n",
    "    \n",
    "plt.plot(input_x, average, '.r')\n",
    "\n",
    "plt.show()"
   ]
  }
 ],
 "metadata": {
  "kernelspec": {
   "display_name": "Python 3",
   "language": "python",
   "name": "python3"
  },
  "language_info": {
   "codemirror_mode": {
    "name": "ipython",
    "version": 3
   },
   "file_extension": ".py",
   "mimetype": "text/x-python",
   "name": "python",
   "nbconvert_exporter": "python",
   "pygments_lexer": "ipython3",
   "version": "3.6.1"
  }
 },
 "nbformat": 4,
 "nbformat_minor": 2
}
